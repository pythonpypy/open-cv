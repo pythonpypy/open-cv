{
 "cells": [
  {
   "cell_type": "code",
   "execution_count": 1,
   "metadata": {},
   "outputs": [],
   "source": [
    "import cv2"
   ]
  },
  {
   "cell_type": "code",
   "execution_count": 2,
   "metadata": {},
   "outputs": [],
   "source": [
    "face_cascade = cv2.CascadeClassifier(\"haarcascade_frontalface_default.xml\")"
   ]
  },
  {
   "cell_type": "code",
   "execution_count": 3,
   "metadata": {},
   "outputs": [],
   "source": [
    "eye_cascade = cv2.CascadeClassifier(\"haarcascade_eye.xml\")"
   ]
  },
  {
   "cell_type": "code",
   "execution_count": 4,
   "metadata": {},
   "outputs": [],
   "source": [
    "smile_cascade = cv2.CascadeClassifier(\"haarcascade_smile.xml\")"
   ]
  },
  {
   "cell_type": "code",
   "execution_count": 5,
   "metadata": {},
   "outputs": [],
   "source": [
    "#cascade takes input as gray image & frame(for drawing our rectangles on)\n",
    "def detect(gray, frame):\n",
    "    #returns a tuple of 4 items (x,y) co-ordinates of image(upper-left) & width and height.\n",
    "    faces = face_cascade.detectMultiScale(gray, 1.3, 5)\n",
    "    \n",
    "    for (x, y, w, h) in faces:\n",
    "        # draw the rectangle on org image(frame) starting from upper-left corner((x,y)) to lower-right corner((x+w,y+h)) with red colour and size of 2.\n",
    "        cv2.rectangle(frame,(x,y),(x+w,y +h),(255,0,0), 2)\n",
    "        #region of interest for detecting eyes is around the rectangle of face\n",
    "        roi_gray = gray[y:y+h,x:x+w]\n",
    "        #region of interest for detecting eyes is around the rectangle of face\n",
    "        roi_color = frame[y:y+h, x:x+w]\n",
    "        # detect eyes from roi_gray image to save compute time by looking only at bounded rectangles around face\n",
    "        # cascade uses gray images so roi_gray is fed as input\n",
    "        eyes = eye_cascade.detectMultiScale(roi_gray,1.1,22)\n",
    "        \n",
    "        for (ex, ey, ew, eh) in eyes:\n",
    "            # draw the rectangle around eyes on roi_color frame that is a sub zone of the face (zone) detected by rectangle\n",
    "            cv2.rectangle(roi_color,(ex, ey),(ex + ew , ey + eh),(0, 0, 255), 3)\n",
    "        smiles = smile_cascade.detectMultiScale(roi_gray,1.9, 22)        \n",
    "        for (smilex,smiley,smilewidth, smileheight) in smiles:\n",
    "             #draw the rectangle around smile on roi_color frame that is a sub zone of the face (zone) detected by rectangle\n",
    "            cv2.rectangle(roi_color,(smilex,smiley),(smilex + smilewidth, smiley + smileheight),(0,255,0),3)\n",
    "    \n",
    "            \n",
    "     # on which we drawn our rectangles (on face (and on face we drawn rectangles around eyes))       \n",
    "    return frame\n",
    "        "
   ]
  },
  {
   "cell_type": "code",
   "execution_count": null,
   "metadata": {},
   "outputs": [],
   "source": []
  },
  {
   "cell_type": "code",
   "execution_count": 6,
   "metadata": {},
   "outputs": [],
   "source": [
    "# input 0 if you use internal camera else use 1 for external camera\n",
    "video_captured = cv2.VideoCapture(0)"
   ]
  },
  {
   "cell_type": "code",
   "execution_count": 7,
   "metadata": {},
   "outputs": [],
   "source": [
    "# loop infinitely until q keystroke occurs\n",
    "while True:\n",
    "    # capture the last frame from the webcam returned by read() of video_capture instance\n",
    "    _,last_frame = video_captured.read()\n",
    "    # compute the average of the color channels for a balanced gray image\n",
    "    gray = cv2.cvtColor(last_frame, cv2.COLOR_BGR2GRAY)\n",
    "    # feed the gray and color image frame\n",
    "    canvas = detect(gray, last_frame)\n",
    "    # display the processed images as a animation\n",
    "    cv2.imshow(\"video\",canvas)\n",
    "    if cv2.waitKey(1) & 0xFF == ord(\"q\"):\n",
    "        break"
   ]
  },
  {
   "cell_type": "code",
   "execution_count": 8,
   "metadata": {},
   "outputs": [],
   "source": [
    "# turn of the webcam\n",
    "video_captured.release()\n",
    "# quit the gui window.\n",
    "cv2.destroyAllWindows()"
   ]
  },
  {
   "cell_type": "code",
   "execution_count": null,
   "metadata": {},
   "outputs": [],
   "source": []
  }
 ],
 "metadata": {
  "kernelspec": {
   "display_name": "Python 3",
   "language": "python",
   "name": "python3"
  },
  "language_info": {
   "codemirror_mode": {
    "name": "ipython",
    "version": 3
   },
   "file_extension": ".py",
   "mimetype": "text/x-python",
   "name": "python",
   "nbconvert_exporter": "python",
   "pygments_lexer": "ipython3",
   "version": "3.6.5"
  }
 },
 "nbformat": 4,
 "nbformat_minor": 2
}
